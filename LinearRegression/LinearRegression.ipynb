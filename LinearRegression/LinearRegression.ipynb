{
 "cells": [
  {
   "cell_type": "code",
   "execution_count": null,
   "metadata": {
    "vscode": {
     "languageId": "r"
    }
   },
   "outputs": [],
   "source": [
    "\n",
    "data <- read.csv(file.choose(), header = TRUE)\n",
    "\n",
    "# Convert '年份' (Year) to a numeric type if it's not already\n",
    "\n",
    "data$年份 <- as.numeric(as.character(data$年份))\n",
    "\n",
    "# Linear regression for each dependent variable against the year ('年份')\n",
    "\n",
    "model1 <- lm(卫生总费用.亿元. ~ 年份, data=data)\n",
    "\n",
    "summary(model1)\n",
    "\n",
    "model2 <- lm(政府卫生支出.亿元. ~ 年份, data=data)\n",
    "\n",
    "summary(model2)\n",
    "\n",
    "model3 <- lm(社会卫生支出.亿元. ~ 年份, data=data)\n",
    "\n",
    "summary(model3)\n",
    "\n",
    "model4 <- lm(个人现金卫生支出.亿元. ~ 年份, data=data)\n",
    "\n",
    "summary(model4)\n",
    "\n",
    "model5 <- lm(人均卫生费用.元. ~ 年份, data=data)\n",
    "\n",
    "summary(model5)\n",
    "\n",
    "# Calculate fitted values for each model\n",
    "\n",
    "fitted1 <- predict(model1)\n",
    "\n",
    "fitted2 <- predict(model2)\n",
    "\n",
    "fitted3 <- predict(model3)\n",
    "\n",
    "fitted4 <- predict(model4)\n",
    "\n",
    "fitted5 <- predict(model5)\n",
    "\n",
    "# Set up the plot\n",
    "\n",
    "plot(data$年份, data$卫生总费用.亿元., type=\"b\", col=\"blue\", ylim=c(min(data$卫生总费用.亿元., data$政府卫生支出.亿元., data$社会卫生支出.亿元., data$个人现金卫生支出.亿元., data$人均卫生费用.元., fitted1, fitted2, fitted3, fitted4, fitted5), max(data$卫生总费用.亿元., data$政府卫生支出.亿元., data$社会卫生支出.亿元., data$个人现金卫生支出.亿元., data$人均卫生费用.元., fitted1, fitted2, fitted3, fitted4, fitted5)), xlab=\"Year\", ylab=\"Expenditure\")\n",
    "\n",
    "# Add actual data and fitted lines for other variables\n",
    "\n",
    "points(data$年份, data$政府卫生支出.亿元., type=\"b\", col=\"green\")\n",
    "\n",
    "points(data$年份, data$社会卫生支出.亿元., type=\"b\", col=\"red\")\n",
    "\n",
    "points(data$年份, data$个人现金卫生支出.亿元., type=\"b\", col=\"purple\")\n",
    "\n",
    "points(data$年份, data$人均卫生费用.元., type=\"b\", col=\"orange\")\n",
    "\n",
    "lines(data$年份, fitted1, col=\"blue\", lty=2)\n",
    "\n",
    "lines(data$年份, fitted2, col=\"green\", lty=2)\n",
    "\n",
    "lines(data$年份, fitted3, col=\"red\", lty=2)\n",
    "\n",
    "lines(data$年份, fitted4, col=\"purple\", lty=2)\n",
    "\n",
    "lines(data$年份, fitted5, col=\"orange\", lty=2)\n",
    "\n",
    "legend(\"topleft\", legend=c(\"Total Expenditure Actual\", \"Government Expenditure Actual\", \"Social Expenditure Actual\", \"Individual Expenditure Actual\", \"Per Capita Expenditure Actual\", \"Total Expenditure Fitted\", \"Government Expenditure Fitted\", \"Social Expenditure Fitted\", \"Individual Expenditure Fitted\", \"Per Capita Expenditure Fitted\"), col=c(\"blue\", \"green\", \"red\", \"purple\", \"orange\", \"blue\", \"green\", \"red\", \"purple\", \"orange\"), lty=c(1, 1, 1, 1, 1, 2, 2, 2, 2, 2), cex=0.5)\n"
   ]
  },
  {
   "cell_type": "code",
   "execution_count": null,
   "metadata": {
    "vscode": {
     "languageId": "r"
    }
   },
   "outputs": [],
   "source": [
    "data <- data[order(data$年份),]\n",
    "\n",
    "differences <- diff(data$卫生总费用.亿元.)\n",
    "\n",
    "percentage_changes <- differences / head(data$卫生总费用.亿元., -1) * 100\n",
    "\n",
    "average_increment <- mean(percentage_changes)\n",
    "\n",
    "average_increment\n"
   ]
  },
  {
   "cell_type": "code",
   "execution_count": null,
   "metadata": {
    "vscode": {
     "languageId": "r"
    }
   },
   "outputs": [],
   "source": [
    "\n",
    "data <- read.csv(file.choose(), header = TRUE)\n",
    "\n",
    "data$Urban_Sum <- rowSums(data[, c(\"每万人拥有城市卫生技术人员数.人.\", \"每万人拥有城市执业.助理.医师数.人.\", \"每万人拥有城市注册护士数.人.\")], na.rm = TRUE)\n",
    "\n",
    "data$Rural_Sum <- rowSums(data[, c(\"每万人拥有农村卫生技术人员数.人.\", \"每万人拥有农村执业.助理.医师数.人.\", \"每万人拥有农村注册护士数.人.\")], na.rm = TRUE)\n",
    "\n",
    "urban_growth <- c(NA, diff(data$Urban_Sum) / data$Urban_Sum[-nrow(data)] * 100)\n",
    "\n",
    "rural_growth <- c(NA, diff(data$Rural_Sum) / data$Rural_Sum[-nrow(data)] * 100)\n",
    "\n",
    "data$Urban_Growth <- urban_growth\n",
    "\n",
    "data$Rural_Growth <- rural_growth\n",
    "\n",
    "plot(data$年份, data$Urban_Growth, type = \"o\", col = \"blue\", xlab = \"Year\", ylab = \"Growth Rate (%)\", main = \"Urban vs Rural Health Personnel Growth Rates\", ylim = c(-22, 20))\n",
    "\n",
    "lines(data$年份, data$Rural_Growth, type = \"o\", col = \"red\")\n",
    "\n",
    "legend(\"topleft\", legend = c(\"Urban Growth\", \"Rural Growth\"), col = c(\"blue\", \"red\"), lty = 1, cex = 0.5)"
   ]
  }
 ],
 "metadata": {
  "language_info": {
   "name": "python"
  }
 },
 "nbformat": 4,
 "nbformat_minor": 2
}
